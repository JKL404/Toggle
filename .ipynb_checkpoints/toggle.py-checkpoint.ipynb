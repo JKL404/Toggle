{
 "cells": [
  {
   "cell_type": "code",
   "execution_count": 44,
   "metadata": {},
   "outputs": [
    {
     "name": "stdout",
     "output_type": "stream",
     "text": [
      "bSFDJLJSFlfdLJSDF\n"
     ]
    }
   ],
   "source": [
    "# Python Package to Toggle Characters Case in a String by JKL404\n",
    " \n",
    "class Toggle:\n",
    "    def __new__(self,string=\"error: nO StRiNg FoUnD fOr ToGgLe\", choice=\"a\"):\n",
    "        #Initializing String and Choice\n",
    "        self.choice=choice\n",
    "        self.string = string\n",
    "        self.string1 = ''\n",
    "        if self.choice=='a':\n",
    "            for i in self.string:\n",
    "                if(ord(i) >= 65 and ord(i) <= 90): \n",
    "                    self.string1 = self.string1 + chr((ord(i) + 32)) \n",
    "                elif(ord(i) >= 97 and ord(i) <= 122):\n",
    "                    self.string1 = self.string1 + chr((ord(i) - 32))\n",
    "                else:\n",
    "                    self.string1 = self.string1 + i\n",
    "        return self.string1\n",
    "#print(Toggle(\"BsfdjljsfLFDljsdf\"))"
   ]
  }
 ],
 "metadata": {
  "kernelspec": {
   "display_name": "Python 3",
   "language": "python",
   "name": "python3"
  },
  "language_info": {
   "codemirror_mode": {
    "name": "ipython",
    "version": 3
   },
   "file_extension": ".py",
   "mimetype": "text/x-python",
   "name": "python",
   "nbconvert_exporter": "python",
   "pygments_lexer": "ipython3",
   "version": "3.8.3"
  }
 },
 "nbformat": 4,
 "nbformat_minor": 4
}
